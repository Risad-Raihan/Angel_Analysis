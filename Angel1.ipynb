{
 "cells": [
  {
   "cell_type": "code",
   "execution_count": 2,
   "id": "e3bdc1fe-120e-4e61-b158-1d085f087398",
   "metadata": {},
   "outputs": [
    {
     "name": "stdout",
     "output_type": "stream",
     "text": [
      "Requirement already satisfied: openpyxl in c:\\users\\user\\anaconda3\\lib\\site-packages (3.0.10)\n",
      "Collecting openpyxl\n",
      "  Downloading openpyxl-3.1.2-py2.py3-none-any.whl.metadata (2.5 kB)\n",
      "Requirement already satisfied: et-xmlfile in c:\\users\\user\\anaconda3\\lib\\site-packages (from openpyxl) (1.1.0)\n",
      "Downloading openpyxl-3.1.2-py2.py3-none-any.whl (249 kB)\n",
      "   ---------------------------------------- 0.0/250.0 kB ? eta -:--:--\n",
      "   - -------------------------------------- 10.2/250.0 kB ? eta -:--:--\n",
      "   ------------- -------------------------- 81.9/250.0 kB 1.5 MB/s eta 0:00:01\n",
      "   ---------------------------------------  245.8/250.0 kB 2.2 MB/s eta 0:00:01\n",
      "   ---------------------------------------- 250.0/250.0 kB 2.2 MB/s eta 0:00:00\n",
      "Installing collected packages: openpyxl\n",
      "  Attempting uninstall: openpyxl\n",
      "    Found existing installation: openpyxl 3.0.10\n",
      "    Uninstalling openpyxl-3.0.10:\n",
      "      Successfully uninstalled openpyxl-3.0.10\n",
      "Successfully installed openpyxl-3.1.2\n"
     ]
    }
   ],
   "source": [
    "!pip install --upgrade openpyxl\n"
   ]
  },
  {
   "cell_type": "code",
   "execution_count": 3,
   "id": "a55c9ee8-a4e4-4823-8922-45de7b3aec68",
   "metadata": {},
   "outputs": [],
   "source": [
    "import pandas as pd\n",
    "import numpy as np\n",
    "import matplotlib\n",
    "import matplotlib.pyplot as plt\n",
    "import seaborn as sns\n",
    "from datetime import date"
   ]
  },
  {
   "cell_type": "code",
   "execution_count": 4,
   "id": "e05173bf-b722-4767-9b55-e5aefb948690",
   "metadata": {},
   "outputs": [],
   "source": [
    "from openpyxl.styles.colors import WHITE, RGB\n",
    "\n",
    "__old_rgb_set__ = RGB.__set__\n",
    "\n",
    "\n",
    "def __rgb_set_fixed__(self, instance, value):\n",
    "    try:\n",
    "        __old_rgb_set__(self, instance, value)\n",
    "    except ValueError as e:\n",
    "        if e.args[0] == 'Colors must be aRGB hex values':\n",
    "            __old_rgb_set__(self, instance, WHITE)  # Change default color here\n",
    "\n",
    "\n",
    "RGB.__set__ = __rgb_set_fixed__"
   ]
  },
  {
   "cell_type": "code",
   "execution_count": 7,
   "id": "bab0fee1-1b84-4da4-ad43-d1ea78dfc7f2",
   "metadata": {},
   "outputs": [],
   "source": [
    "df1 = pd.read_excel(\"oct'23.xlsx\", engine = 'openpyxl')\n",
    "df2 = pd.read_excel(\"Nov'23.xlsx\", engine = 'openpyxl')\n",
    "df3 = pd.read_excel(\"sep'23.xlsx\", engine = 'openpyxl')"
   ]
  },
  {
   "cell_type": "code",
   "execution_count": 12,
   "id": "eeafaea1-bea7-4e5e-8625-ae19fbbe906e",
   "metadata": {},
   "outputs": [
    {
     "data": {
      "text/html": [
       "<div>\n",
       "<style scoped>\n",
       "    .dataframe tbody tr th:only-of-type {\n",
       "        vertical-align: middle;\n",
       "    }\n",
       "\n",
       "    .dataframe tbody tr th {\n",
       "        vertical-align: top;\n",
       "    }\n",
       "\n",
       "    .dataframe thead th {\n",
       "        text-align: right;\n",
       "    }\n",
       "</style>\n",
       "<table border=\"1\" class=\"dataframe\">\n",
       "  <thead>\n",
       "    <tr style=\"text-align: right;\">\n",
       "      <th></th>\n",
       "      <th>SL</th>\n",
       "      <th>Outlet</th>\n",
       "      <th>Factory</th>\n",
       "      <th>Customer Name</th>\n",
       "      <th>Customer Code</th>\n",
       "      <th>HR Code</th>\n",
       "      <th>Cash Amount</th>\n",
       "      <th>Credit Amount</th>\n",
       "      <th>Card Amount</th>\n",
       "      <th>MFS Amount</th>\n",
       "      <th>Total Sales Amount</th>\n",
       "      <th>Total Discount</th>\n",
       "      <th>Recovered</th>\n",
       "      <th>Net Credit</th>\n",
       "    </tr>\n",
       "  </thead>\n",
       "  <tbody>\n",
       "    <tr>\n",
       "      <th>0</th>\n",
       "      <td>1</td>\n",
       "      <td>Picard Bangladesh Limited</td>\n",
       "      <td>PICARD</td>\n",
       "      <td>Shahida Begum</td>\n",
       "      <td>AP0190000002</td>\n",
       "      <td>BG000009</td>\n",
       "      <td>267</td>\n",
       "      <td>0.0</td>\n",
       "      <td>0</td>\n",
       "      <td>0</td>\n",
       "      <td>267.0</td>\n",
       "      <td>5.5</td>\n",
       "      <td>0</td>\n",
       "      <td>0.0</td>\n",
       "    </tr>\n",
       "    <tr>\n",
       "      <th>1</th>\n",
       "      <td>2</td>\n",
       "      <td>Picard Bangladesh Limited</td>\n",
       "      <td>PICARD</td>\n",
       "      <td>Mukta Banu</td>\n",
       "      <td>AP0190000007</td>\n",
       "      <td>BG000033</td>\n",
       "      <td>0</td>\n",
       "      <td>1347.0</td>\n",
       "      <td>0</td>\n",
       "      <td>0</td>\n",
       "      <td>1347.0</td>\n",
       "      <td>199.0</td>\n",
       "      <td>0</td>\n",
       "      <td>1347.0</td>\n",
       "    </tr>\n",
       "    <tr>\n",
       "      <th>2</th>\n",
       "      <td>3</td>\n",
       "      <td>Picard Bangladesh Limited</td>\n",
       "      <td>PICARD</td>\n",
       "      <td>Shefali Begum</td>\n",
       "      <td>AP0190000012</td>\n",
       "      <td>BG000072</td>\n",
       "      <td>1465</td>\n",
       "      <td>0.0</td>\n",
       "      <td>0</td>\n",
       "      <td>0</td>\n",
       "      <td>1465.0</td>\n",
       "      <td>8.0</td>\n",
       "      <td>0</td>\n",
       "      <td>0.0</td>\n",
       "    </tr>\n",
       "    <tr>\n",
       "      <th>3</th>\n",
       "      <td>4</td>\n",
       "      <td>Picard Bangladesh Limited</td>\n",
       "      <td>PICARD</td>\n",
       "      <td>Sobuz Miah</td>\n",
       "      <td>AP0190000014</td>\n",
       "      <td>BG000104</td>\n",
       "      <td>0</td>\n",
       "      <td>1490.0</td>\n",
       "      <td>0</td>\n",
       "      <td>0</td>\n",
       "      <td>1490.0</td>\n",
       "      <td>80.0</td>\n",
       "      <td>0</td>\n",
       "      <td>1490.0</td>\n",
       "    </tr>\n",
       "    <tr>\n",
       "      <th>4</th>\n",
       "      <td>5</td>\n",
       "      <td>Picard Bangladesh Limited</td>\n",
       "      <td>PICARD</td>\n",
       "      <td>Lone Akther</td>\n",
       "      <td>AP0190000016</td>\n",
       "      <td>BG000108</td>\n",
       "      <td>0</td>\n",
       "      <td>1069.0</td>\n",
       "      <td>0</td>\n",
       "      <td>0</td>\n",
       "      <td>1069.0</td>\n",
       "      <td>41.0</td>\n",
       "      <td>0</td>\n",
       "      <td>1069.0</td>\n",
       "    </tr>\n",
       "    <tr>\n",
       "      <th>...</th>\n",
       "      <td>...</td>\n",
       "      <td>...</td>\n",
       "      <td>...</td>\n",
       "      <td>...</td>\n",
       "      <td>...</td>\n",
       "      <td>...</td>\n",
       "      <td>...</td>\n",
       "      <td>...</td>\n",
       "      <td>...</td>\n",
       "      <td>...</td>\n",
       "      <td>...</td>\n",
       "      <td>...</td>\n",
       "      <td>...</td>\n",
       "      <td>...</td>\n",
       "    </tr>\n",
       "    <tr>\n",
       "      <th>18331</th>\n",
       "      <td>18332</td>\n",
       "      <td>Majumder Garments Limited</td>\n",
       "      <td>Majumder Garments Limited</td>\n",
       "      <td>Mst. Morsheda Begum</td>\n",
       "      <td>AP0200001430</td>\n",
       "      <td>402501</td>\n",
       "      <td>0</td>\n",
       "      <td>2067.0</td>\n",
       "      <td>0</td>\n",
       "      <td>0</td>\n",
       "      <td>2067.0</td>\n",
       "      <td>151.0</td>\n",
       "      <td>0</td>\n",
       "      <td>2067.0</td>\n",
       "    </tr>\n",
       "    <tr>\n",
       "      <th>18332</th>\n",
       "      <td>18333</td>\n",
       "      <td>Majumder Garments Limited</td>\n",
       "      <td>Majumder Garments Limited</td>\n",
       "      <td>Md. Kajol Sheikh</td>\n",
       "      <td>AP0200001395</td>\n",
       "      <td>101348</td>\n",
       "      <td>0</td>\n",
       "      <td>1015.0</td>\n",
       "      <td>0</td>\n",
       "      <td>0</td>\n",
       "      <td>1015.0</td>\n",
       "      <td>50.0</td>\n",
       "      <td>0</td>\n",
       "      <td>1015.0</td>\n",
       "    </tr>\n",
       "    <tr>\n",
       "      <th>18333</th>\n",
       "      <td>18334</td>\n",
       "      <td>Majumder Garments Limited</td>\n",
       "      <td>Majumder Garments Limited</td>\n",
       "      <td>Md. Asif Molla</td>\n",
       "      <td>AP0200001389</td>\n",
       "      <td>201132</td>\n",
       "      <td>0</td>\n",
       "      <td>1465.0</td>\n",
       "      <td>0</td>\n",
       "      <td>0</td>\n",
       "      <td>1465.0</td>\n",
       "      <td>115.0</td>\n",
       "      <td>0</td>\n",
       "      <td>1465.0</td>\n",
       "    </tr>\n",
       "    <tr>\n",
       "      <th>18334</th>\n",
       "      <td>18335</td>\n",
       "      <td>Majumder Garments Limited</td>\n",
       "      <td>Majumder Garments Limited</td>\n",
       "      <td>Mostain Billah</td>\n",
       "      <td>AP0200001411</td>\n",
       "      <td>833912</td>\n",
       "      <td>0</td>\n",
       "      <td>1320.0</td>\n",
       "      <td>0</td>\n",
       "      <td>0</td>\n",
       "      <td>1320.0</td>\n",
       "      <td>83.0</td>\n",
       "      <td>0</td>\n",
       "      <td>1320.0</td>\n",
       "    </tr>\n",
       "    <tr>\n",
       "      <th>18335</th>\n",
       "      <td>18336</td>\n",
       "      <td>Majumder Garments Limited</td>\n",
       "      <td>Majumder Garments Limited</td>\n",
       "      <td>Md. Sayedur Rahman</td>\n",
       "      <td>AP0200001782</td>\n",
       "      <td>8007</td>\n",
       "      <td>0</td>\n",
       "      <td>1640.0</td>\n",
       "      <td>0</td>\n",
       "      <td>0</td>\n",
       "      <td>1640.0</td>\n",
       "      <td>360.0</td>\n",
       "      <td>0</td>\n",
       "      <td>1640.0</td>\n",
       "    </tr>\n",
       "  </tbody>\n",
       "</table>\n",
       "<p>18336 rows × 14 columns</p>\n",
       "</div>"
      ],
      "text/plain": [
       "          SL                     Outlet                    Factory  \\\n",
       "0          1  Picard Bangladesh Limited                     PICARD   \n",
       "1          2  Picard Bangladesh Limited                     PICARD   \n",
       "2          3  Picard Bangladesh Limited                     PICARD   \n",
       "3          4  Picard Bangladesh Limited                     PICARD   \n",
       "4          5  Picard Bangladesh Limited                     PICARD   \n",
       "...      ...                        ...                        ...   \n",
       "18331  18332  Majumder Garments Limited  Majumder Garments Limited   \n",
       "18332  18333  Majumder Garments Limited  Majumder Garments Limited   \n",
       "18333  18334  Majumder Garments Limited  Majumder Garments Limited   \n",
       "18334  18335  Majumder Garments Limited  Majumder Garments Limited   \n",
       "18335  18336  Majumder Garments Limited  Majumder Garments Limited   \n",
       "\n",
       "             Customer Name Customer Code   HR Code  Cash Amount  \\\n",
       "0            Shahida Begum  AP0190000002  BG000009          267   \n",
       "1               Mukta Banu  AP0190000007  BG000033            0   \n",
       "2            Shefali Begum  AP0190000012  BG000072         1465   \n",
       "3               Sobuz Miah  AP0190000014  BG000104            0   \n",
       "4              Lone Akther  AP0190000016  BG000108            0   \n",
       "...                    ...           ...       ...          ...   \n",
       "18331  Mst. Morsheda Begum  AP0200001430    402501            0   \n",
       "18332     Md. Kajol Sheikh  AP0200001395    101348            0   \n",
       "18333       Md. Asif Molla  AP0200001389    201132            0   \n",
       "18334       Mostain Billah  AP0200001411    833912            0   \n",
       "18335   Md. Sayedur Rahman  AP0200001782      8007            0   \n",
       "\n",
       "       Credit Amount  Card Amount  MFS Amount  Total Sales Amount  \\\n",
       "0                0.0            0           0               267.0   \n",
       "1             1347.0            0           0              1347.0   \n",
       "2                0.0            0           0              1465.0   \n",
       "3             1490.0            0           0              1490.0   \n",
       "4             1069.0            0           0              1069.0   \n",
       "...              ...          ...         ...                 ...   \n",
       "18331         2067.0            0           0              2067.0   \n",
       "18332         1015.0            0           0              1015.0   \n",
       "18333         1465.0            0           0              1465.0   \n",
       "18334         1320.0            0           0              1320.0   \n",
       "18335         1640.0            0           0              1640.0   \n",
       "\n",
       "       Total Discount  Recovered  Net Credit  \n",
       "0                 5.5          0         0.0  \n",
       "1               199.0          0      1347.0  \n",
       "2                 8.0          0         0.0  \n",
       "3                80.0          0      1490.0  \n",
       "4                41.0          0      1069.0  \n",
       "...               ...        ...         ...  \n",
       "18331           151.0          0      2067.0  \n",
       "18332            50.0          0      1015.0  \n",
       "18333           115.0          0      1465.0  \n",
       "18334            83.0          0      1320.0  \n",
       "18335           360.0          0      1640.0  \n",
       "\n",
       "[18336 rows x 14 columns]"
      ]
     },
     "execution_count": 12,
     "metadata": {},
     "output_type": "execute_result"
    }
   ],
   "source": [
    "df1"
   ]
  },
  {
   "cell_type": "markdown",
   "id": "6aca9068-7480-4c81-8955-ea49f72bd669",
   "metadata": {},
   "source": [
    "## Pre - processing"
   ]
  },
  {
   "cell_type": "code",
   "execution_count": 14,
   "id": "8a7ac6a8-6331-43cb-ac59-c4aa54fa334a",
   "metadata": {},
   "outputs": [
    {
     "data": {
      "text/html": [
       "<div>\n",
       "<style scoped>\n",
       "    .dataframe tbody tr th:only-of-type {\n",
       "        vertical-align: middle;\n",
       "    }\n",
       "\n",
       "    .dataframe tbody tr th {\n",
       "        vertical-align: top;\n",
       "    }\n",
       "\n",
       "    .dataframe thead th {\n",
       "        text-align: right;\n",
       "    }\n",
       "</style>\n",
       "<table border=\"1\" class=\"dataframe\">\n",
       "  <thead>\n",
       "    <tr style=\"text-align: right;\">\n",
       "      <th></th>\n",
       "      <th>SL</th>\n",
       "      <th>Outlet</th>\n",
       "      <th>Factory</th>\n",
       "      <th>Customer Name</th>\n",
       "      <th>Customer Code</th>\n",
       "      <th>HR Code</th>\n",
       "      <th>Cash Amount</th>\n",
       "      <th>Credit Amount</th>\n",
       "      <th>Card Amount</th>\n",
       "      <th>MFS Amount</th>\n",
       "      <th>Total Sales Amount</th>\n",
       "      <th>Total Discount</th>\n",
       "      <th>Recovered</th>\n",
       "      <th>Net Credit</th>\n",
       "    </tr>\n",
       "  </thead>\n",
       "  <tbody>\n",
       "  </tbody>\n",
       "</table>\n",
       "</div>"
      ],
      "text/plain": [
       "Empty DataFrame\n",
       "Columns: [SL, Outlet, Factory, Customer Name, Customer Code, HR Code, Cash Amount, Credit Amount, Card Amount, MFS Amount, Total Sales Amount, Total Discount, Recovered, Net Credit]\n",
       "Index: []"
      ]
     },
     "execution_count": 14,
     "metadata": {},
     "output_type": "execute_result"
    }
   ],
   "source": [
    "duplicate = df1[df1.duplicated()]\n",
    "duplicate"
   ]
  },
  {
   "cell_type": "code",
   "execution_count": 15,
   "id": "20a4f849-6729-457b-aca5-d69729775412",
   "metadata": {},
   "outputs": [
    {
     "data": {
      "text/html": [
       "<div>\n",
       "<style scoped>\n",
       "    .dataframe tbody tr th:only-of-type {\n",
       "        vertical-align: middle;\n",
       "    }\n",
       "\n",
       "    .dataframe tbody tr th {\n",
       "        vertical-align: top;\n",
       "    }\n",
       "\n",
       "    .dataframe thead th {\n",
       "        text-align: right;\n",
       "    }\n",
       "</style>\n",
       "<table border=\"1\" class=\"dataframe\">\n",
       "  <thead>\n",
       "    <tr style=\"text-align: right;\">\n",
       "      <th></th>\n",
       "      <th>SL</th>\n",
       "      <th>Outlet</th>\n",
       "      <th>Factory</th>\n",
       "      <th>Customer Name</th>\n",
       "      <th>Customer Code</th>\n",
       "      <th>HR Code</th>\n",
       "      <th>Contact Number</th>\n",
       "      <th>Cash Amount</th>\n",
       "      <th>Credit Amount</th>\n",
       "      <th>Card Amount</th>\n",
       "      <th>MFS Amount</th>\n",
       "      <th>Total Sales Amount</th>\n",
       "      <th>Total Discount</th>\n",
       "      <th>Recovered</th>\n",
       "      <th>Net Credit</th>\n",
       "    </tr>\n",
       "  </thead>\n",
       "  <tbody>\n",
       "  </tbody>\n",
       "</table>\n",
       "</div>"
      ],
      "text/plain": [
       "Empty DataFrame\n",
       "Columns: [SL, Outlet, Factory, Customer Name, Customer Code, HR Code, Contact Number, Cash Amount, Credit Amount, Card Amount, MFS Amount, Total Sales Amount, Total Discount, Recovered, Net Credit]\n",
       "Index: []"
      ]
     },
     "execution_count": 15,
     "metadata": {},
     "output_type": "execute_result"
    }
   ],
   "source": [
    "duplicate = df2[df2.duplicated()]\n",
    "duplicate"
   ]
  },
  {
   "cell_type": "code",
   "execution_count": 16,
   "id": "828e3b52-648a-4d87-bd81-4dfa47a15e70",
   "metadata": {},
   "outputs": [
    {
     "data": {
      "text/html": [
       "<div>\n",
       "<style scoped>\n",
       "    .dataframe tbody tr th:only-of-type {\n",
       "        vertical-align: middle;\n",
       "    }\n",
       "\n",
       "    .dataframe tbody tr th {\n",
       "        vertical-align: top;\n",
       "    }\n",
       "\n",
       "    .dataframe thead th {\n",
       "        text-align: right;\n",
       "    }\n",
       "</style>\n",
       "<table border=\"1\" class=\"dataframe\">\n",
       "  <thead>\n",
       "    <tr style=\"text-align: right;\">\n",
       "      <th></th>\n",
       "      <th>SL</th>\n",
       "      <th>Outlet</th>\n",
       "      <th>Factory</th>\n",
       "      <th>Customer Name</th>\n",
       "      <th>Customer Code</th>\n",
       "      <th>HR Code</th>\n",
       "      <th>Cash Amount</th>\n",
       "      <th>Credit Amount</th>\n",
       "      <th>Card Amount</th>\n",
       "      <th>MFS Amount</th>\n",
       "      <th>Total Sales Amount</th>\n",
       "      <th>Total Discount</th>\n",
       "      <th>Recovered</th>\n",
       "      <th>Net Credit</th>\n",
       "    </tr>\n",
       "  </thead>\n",
       "  <tbody>\n",
       "  </tbody>\n",
       "</table>\n",
       "</div>"
      ],
      "text/plain": [
       "Empty DataFrame\n",
       "Columns: [SL, Outlet, Factory, Customer Name, Customer Code, HR Code, Cash Amount, Credit Amount, Card Amount, MFS Amount, Total Sales Amount, Total Discount, Recovered, Net Credit]\n",
       "Index: []"
      ]
     },
     "execution_count": 16,
     "metadata": {},
     "output_type": "execute_result"
    }
   ],
   "source": [
    "duplicate = df3[df3.duplicated()]\n",
    "duplicate"
   ]
  },
  {
   "cell_type": "code",
   "execution_count": 19,
   "id": "f238acf7-40f2-41d1-81b4-d31c693c91a8",
   "metadata": {},
   "outputs": [],
   "source": [
    "df1.drop_duplicates(subset = ['Customer Code'], inplace = True)"
   ]
  },
  {
   "cell_type": "code",
   "execution_count": 20,
   "id": "7411e313-c1ea-4e9e-ac7e-7516179a0fb3",
   "metadata": {},
   "outputs": [],
   "source": [
    "df2.drop_duplicates(subset = ['Customer Code'], inplace = True)"
   ]
  },
  {
   "cell_type": "code",
   "execution_count": 21,
   "id": "b76fc6a4-3216-48c9-b964-ef3471a0466e",
   "metadata": {},
   "outputs": [],
   "source": [
    "df3.drop_duplicates(subset = ['Customer Code'], inplace = True)"
   ]
  },
  {
   "cell_type": "code",
   "execution_count": 22,
   "id": "345f4682-f8d6-443c-889e-8ef57c48d627",
   "metadata": {},
   "outputs": [],
   "source": [
    "df1.rename(columns = {\"Total Sales Amount\": \"Month_1_Customer_Sales\"}, inplace = True)"
   ]
  },
  {
   "cell_type": "code",
   "execution_count": 23,
   "id": "4aba9828-606c-42b0-8fd7-11519657e8cb",
   "metadata": {},
   "outputs": [],
   "source": [
    "df2.rename(columns = {\"Total Sales Amount\": \"Month_2_Customer_Sales\"}, inplace = True)"
   ]
  },
  {
   "cell_type": "code",
   "execution_count": 24,
   "id": "393c8f9a-8805-4c10-97e5-adc92815980b",
   "metadata": {},
   "outputs": [],
   "source": [
    "df3.rename(columns = {\"Total Sales Amount\": \"Month_3_Customer_Sales\"}, inplace = True)"
   ]
  },
  {
   "cell_type": "markdown",
   "id": "cd02d90d-3e86-44fc-aa2e-4f19b604406c",
   "metadata": {},
   "source": [
    "### Merge using join\n"
   ]
  },
  {
   "cell_type": "code",
   "execution_count": 26,
   "id": "3b5319f0-0995-4c6f-a89c-d813d6e83ed0",
   "metadata": {},
   "outputs": [],
   "source": [
    "df = pd.merge(df3,df2, how = 'outer', on ='Customer Code', suffixes = ('_left', '_right'))"
   ]
  },
  {
   "cell_type": "code",
   "execution_count": 27,
   "id": "63f8605a-4f72-440b-b550-7923457104c5",
   "metadata": {},
   "outputs": [],
   "source": [
    "df = pd.merge(df, df1, how='outer', on = 'Customer Code', suffixes = ('_left', '_right'))"
   ]
  },
  {
   "cell_type": "code",
   "execution_count": 28,
   "id": "365c9a1c-6b9a-4ed7-b86d-886cf404533f",
   "metadata": {},
   "outputs": [
    {
     "data": {
      "text/html": [
       "<div>\n",
       "<style scoped>\n",
       "    .dataframe tbody tr th:only-of-type {\n",
       "        vertical-align: middle;\n",
       "    }\n",
       "\n",
       "    .dataframe tbody tr th {\n",
       "        vertical-align: top;\n",
       "    }\n",
       "\n",
       "    .dataframe thead th {\n",
       "        text-align: right;\n",
       "    }\n",
       "</style>\n",
       "<table border=\"1\" class=\"dataframe\">\n",
       "  <thead>\n",
       "    <tr style=\"text-align: right;\">\n",
       "      <th></th>\n",
       "      <th>SL_left</th>\n",
       "      <th>Outlet_left</th>\n",
       "      <th>Factory_left</th>\n",
       "      <th>Customer Name_left</th>\n",
       "      <th>Customer Code</th>\n",
       "      <th>HR Code_left</th>\n",
       "      <th>Cash Amount_left</th>\n",
       "      <th>Credit Amount_left</th>\n",
       "      <th>Card Amount_left</th>\n",
       "      <th>MFS Amount_left</th>\n",
       "      <th>...</th>\n",
       "      <th>Customer Name</th>\n",
       "      <th>HR Code</th>\n",
       "      <th>Cash Amount</th>\n",
       "      <th>Credit Amount</th>\n",
       "      <th>Card Amount</th>\n",
       "      <th>MFS Amount</th>\n",
       "      <th>Month_1_Customer_Sales</th>\n",
       "      <th>Total Discount</th>\n",
       "      <th>Recovered</th>\n",
       "      <th>Net Credit</th>\n",
       "    </tr>\n",
       "  </thead>\n",
       "  <tbody>\n",
       "  </tbody>\n",
       "</table>\n",
       "<p>0 rows × 41 columns</p>\n",
       "</div>"
      ],
      "text/plain": [
       "Empty DataFrame\n",
       "Columns: [SL_left, Outlet_left, Factory_left, Customer Name_left, Customer Code, HR Code_left, Cash Amount_left, Credit Amount_left, Card Amount_left, MFS Amount_left, Month_3_Customer_Sales, Total Discount_left, Recovered_left, Net Credit_left, SL_right, Outlet_right, Factory_right, Customer Name_right, HR Code_right, Contact Number, Cash Amount_right, Credit Amount_right, Card Amount_right, MFS Amount_right, Month_2_Customer_Sales, Total Discount_right, Recovered_right, Net Credit_right, SL, Outlet, Factory, Customer Name, HR Code, Cash Amount, Credit Amount, Card Amount, MFS Amount, Month_1_Customer_Sales, Total Discount, Recovered, Net Credit]\n",
       "Index: []\n",
       "\n",
       "[0 rows x 41 columns]"
      ]
     },
     "execution_count": 28,
     "metadata": {},
     "output_type": "execute_result"
    }
   ],
   "source": [
    "duplicate = df[df.duplicated()]\n",
    "duplicate"
   ]
  },
  {
   "cell_type": "code",
   "execution_count": 29,
   "id": "6783d33b-50a6-4912-859e-383c1dc2013c",
   "metadata": {},
   "outputs": [
    {
     "data": {
      "text/plain": [
       "Index(['SL_left', 'Outlet_left', 'Factory_left', 'Customer Name_left',\n",
       "       'Customer Code', 'HR Code_left', 'Cash Amount_left',\n",
       "       'Credit Amount_left', 'Card Amount_left', 'MFS Amount_left',\n",
       "       'Month_3_Customer_Sales', 'Total Discount_left', 'Recovered_left',\n",
       "       'Net Credit_left', 'SL_right', 'Outlet_right', 'Factory_right',\n",
       "       'Customer Name_right', 'HR Code_right', 'Contact Number',\n",
       "       'Cash Amount_right', 'Credit Amount_right', 'Card Amount_right',\n",
       "       'MFS Amount_right', 'Month_2_Customer_Sales', 'Total Discount_right',\n",
       "       'Recovered_right', 'Net Credit_right', 'SL', 'Outlet', 'Factory',\n",
       "       'Customer Name', 'HR Code', 'Cash Amount', 'Credit Amount',\n",
       "       'Card Amount', 'MFS Amount', 'Month_1_Customer_Sales', 'Total Discount',\n",
       "       'Recovered', 'Net Credit'],\n",
       "      dtype='object')"
      ]
     },
     "execution_count": 29,
     "metadata": {},
     "output_type": "execute_result"
    }
   ],
   "source": [
    "df.columns"
   ]
  },
  {
   "cell_type": "code",
   "execution_count": 30,
   "id": "895414e9-16a3-41d5-a73a-4a623d555a19",
   "metadata": {},
   "outputs": [],
   "source": [
    "df.drop(['Cash Amount',\n",
    "       'Credit Amount', 'Card Amount', 'MFS Amount','SL_left', 'Factory_left', 'Cash Amount_left',\n",
    "       'Credit Amount_left', 'Card Amount_left', 'MFS Amount_left',\n",
    "        'Total Discount_left', 'Recovered_left',\n",
    "       'Net Credit_left', 'SL_right',  'Factory_right', 'Cash Amount_right',\n",
    "       'Credit Amount_right', 'Card Amount_right', 'MFS Amount_right','Total Discount_right', 'Recovered_right',\n",
    "       'Net Credit_right'] ,axis =1, inplace = True)"
   ]
  },
  {
   "cell_type": "code",
   "execution_count": 31,
   "id": "a4b170bc-88f4-4b55-a2aa-0fe76b347f9c",
   "metadata": {},
   "outputs": [
    {
     "data": {
      "text/plain": [
       "Index(['Outlet_left', 'Customer Name_left', 'Customer Code', 'HR Code_left',\n",
       "       'Month_3_Customer_Sales', 'Outlet_right', 'Customer Name_right',\n",
       "       'HR Code_right', 'Contact Number', 'Month_2_Customer_Sales', 'SL',\n",
       "       'Outlet', 'Factory', 'Customer Name', 'HR Code',\n",
       "       'Month_1_Customer_Sales', 'Total Discount', 'Recovered', 'Net Credit'],\n",
       "      dtype='object')"
      ]
     },
     "execution_count": 31,
     "metadata": {},
     "output_type": "execute_result"
    }
   ],
   "source": [
    "df.columns"
   ]
  },
  {
   "cell_type": "code",
   "execution_count": 32,
   "id": "90ad7f12-c029-405b-867c-3839493e71fc",
   "metadata": {},
   "outputs": [],
   "source": [
    "df['Month_1_Customer_Sales'] = df['Month_1_Customer_Sales'].fillna(0)"
   ]
  },
  {
   "cell_type": "code",
   "execution_count": 33,
   "id": "b46be81c-6e38-4332-8ee6-a4a97db6d454",
   "metadata": {},
   "outputs": [],
   "source": [
    "df['Month_2_Customer_Sales'] = df['Month_2_Customer_Sales'].fillna(0)"
   ]
  },
  {
   "cell_type": "code",
   "execution_count": 34,
   "id": "690fb246-2240-4944-8b05-1f7f261d8ccf",
   "metadata": {},
   "outputs": [],
   "source": [
    "df['Month_3_Customer_Sales'] = df['Month_3_Customer_Sales'].fillna(0)"
   ]
  },
  {
   "cell_type": "code",
   "execution_count": 35,
   "id": "9115bf90-8f8c-4f20-8f9c-2f00bc3e6ca7",
   "metadata": {},
   "outputs": [
    {
     "data": {
      "text/plain": [
       "Outlet_left               39.517813\n",
       "Customer Name_left        39.517813\n",
       "Customer Code              0.000000\n",
       "HR Code_left              39.517813\n",
       "Month_3_Customer_Sales     0.000000\n",
       "Outlet_right              56.815216\n",
       "Customer Name_right       56.815216\n",
       "HR Code_right             56.815216\n",
       "Contact Number            56.828266\n",
       "Month_2_Customer_Sales     0.000000\n",
       "SL                        40.235547\n",
       "Outlet                    40.235547\n",
       "Factory                   40.235547\n",
       "Customer Name             40.235547\n",
       "HR Code                   40.235547\n",
       "Month_1_Customer_Sales     0.000000\n",
       "Total Discount            40.235547\n",
       "Recovered                 40.235547\n",
       "Net Credit                40.235547\n",
       "dtype: float64"
      ]
     },
     "execution_count": 35,
     "metadata": {},
     "output_type": "execute_result"
    }
   ],
   "source": [
    "df.isnull().sum() * 100/len(df)"
   ]
  },
  {
   "cell_type": "code",
   "execution_count": 36,
   "id": "d0838350-9236-4ec4-a79b-f5f65ecc4d64",
   "metadata": {},
   "outputs": [],
   "source": [
    "df['HR Code'].fillna(df['HR Code_left'], inplace = True)\n",
    "df['HR Code'].fillna(df['HR Code_right'], inplace = True)"
   ]
  },
  {
   "cell_type": "code",
   "execution_count": 37,
   "id": "40699386-6295-476c-8deb-281df40455ca",
   "metadata": {},
   "outputs": [],
   "source": [
    "df['Outlet'].fillna(df['Outlet_right'], inplace = True)\n",
    "df['Outlet'].fillna(df['Outlet_left'], inplace = True)"
   ]
  },
  {
   "cell_type": "code",
   "execution_count": 38,
   "id": "cc41d2c8-58bb-4f48-bef1-3e95c5146f15",
   "metadata": {},
   "outputs": [],
   "source": [
    "df['Customer Name'].fillna(df['Customer Name_right'], inplace = True)\n",
    "df['Customer Name'].fillna(df['Customer Name_left'], inplace = True)"
   ]
  },
  {
   "cell_type": "code",
   "execution_count": 39,
   "id": "3db909ec-7156-4f6e-9693-25dd872063b4",
   "metadata": {},
   "outputs": [],
   "source": [
    "df.drop(['Recovered', 'Net Credit', 'SL', 'Outlet_left', 'Outlet_right', 'HR Code_right', 'HR Code_left'] ,axis =1, inplace = True)"
   ]
  },
  {
   "cell_type": "code",
   "execution_count": 40,
   "id": "cf9649bd-2055-425d-a949-67d7ce6f170d",
   "metadata": {},
   "outputs": [],
   "source": [
    "df.drop(['Total Discount', 'Customer Name_right', 'Customer Name_left'] ,axis =1, inplace = True)"
   ]
  },
  {
   "cell_type": "code",
   "execution_count": 41,
   "id": "d90742f2-317a-4ba9-8cb8-e62ef5503efe",
   "metadata": {},
   "outputs": [],
   "source": [
    "df.drop(['Factory'], axis = 1, inplace = True)"
   ]
  },
  {
   "cell_type": "code",
   "execution_count": 43,
   "id": "314f81d5-03fc-416d-989a-f6ec0a73a6f8",
   "metadata": {},
   "outputs": [
    {
     "data": {
      "text/html": [
       "<div>\n",
       "<style scoped>\n",
       "    .dataframe tbody tr th:only-of-type {\n",
       "        vertical-align: middle;\n",
       "    }\n",
       "\n",
       "    .dataframe tbody tr th {\n",
       "        vertical-align: top;\n",
       "    }\n",
       "\n",
       "    .dataframe thead th {\n",
       "        text-align: right;\n",
       "    }\n",
       "</style>\n",
       "<table border=\"1\" class=\"dataframe\">\n",
       "  <thead>\n",
       "    <tr style=\"text-align: right;\">\n",
       "      <th></th>\n",
       "      <th>Customer Code</th>\n",
       "      <th>Month_3_Customer_Sales</th>\n",
       "      <th>Contact Number</th>\n",
       "      <th>Month_2_Customer_Sales</th>\n",
       "      <th>Outlet</th>\n",
       "      <th>Customer Name</th>\n",
       "      <th>HR Code</th>\n",
       "      <th>Month_1_Customer_Sales</th>\n",
       "    </tr>\n",
       "  </thead>\n",
       "  <tbody>\n",
       "    <tr>\n",
       "      <th>0</th>\n",
       "      <td>AP0190000001</td>\n",
       "      <td>116.0</td>\n",
       "      <td>NaN</td>\n",
       "      <td>0.0</td>\n",
       "      <td>Picard Bangladesh Limited</td>\n",
       "      <td>Md Wadud</td>\n",
       "      <td>BG000007</td>\n",
       "      <td>0.0</td>\n",
       "    </tr>\n",
       "    <tr>\n",
       "      <th>1</th>\n",
       "      <td>AP0190000002</td>\n",
       "      <td>235.0</td>\n",
       "      <td>NaN</td>\n",
       "      <td>0.0</td>\n",
       "      <td>Picard Bangladesh Limited</td>\n",
       "      <td>Shahida Begum</td>\n",
       "      <td>BG000009</td>\n",
       "      <td>267.0</td>\n",
       "    </tr>\n",
       "    <tr>\n",
       "      <th>2</th>\n",
       "      <td>AP0190000003</td>\n",
       "      <td>941.0</td>\n",
       "      <td>NaN</td>\n",
       "      <td>0.0</td>\n",
       "      <td>Picard Bangladesh Limited</td>\n",
       "      <td>Hasina 2</td>\n",
       "      <td>BG000010</td>\n",
       "      <td>0.0</td>\n",
       "    </tr>\n",
       "    <tr>\n",
       "      <th>3</th>\n",
       "      <td>AP0190000007</td>\n",
       "      <td>1090.0</td>\n",
       "      <td>01959975921</td>\n",
       "      <td>1101.0</td>\n",
       "      <td>Picard Bangladesh Limited</td>\n",
       "      <td>Mukta Banu</td>\n",
       "      <td>BG000033</td>\n",
       "      <td>1347.0</td>\n",
       "    </tr>\n",
       "    <tr>\n",
       "      <th>4</th>\n",
       "      <td>AP0190000008</td>\n",
       "      <td>416.0</td>\n",
       "      <td>01774694715</td>\n",
       "      <td>802.0</td>\n",
       "      <td>Picard Bangladesh Limited</td>\n",
       "      <td>Yousuf Ali</td>\n",
       "      <td>BG000034</td>\n",
       "      <td>0.0</td>\n",
       "    </tr>\n",
       "  </tbody>\n",
       "</table>\n",
       "</div>"
      ],
      "text/plain": [
       "  Customer Code  Month_3_Customer_Sales Contact Number  \\\n",
       "0  AP0190000001                   116.0            NaN   \n",
       "1  AP0190000002                   235.0            NaN   \n",
       "2  AP0190000003                   941.0            NaN   \n",
       "3  AP0190000007                  1090.0    01959975921   \n",
       "4  AP0190000008                   416.0    01774694715   \n",
       "\n",
       "   Month_2_Customer_Sales                     Outlet  Customer Name   HR Code  \\\n",
       "0                     0.0  Picard Bangladesh Limited       Md Wadud  BG000007   \n",
       "1                     0.0  Picard Bangladesh Limited  Shahida Begum  BG000009   \n",
       "2                     0.0  Picard Bangladesh Limited       Hasina 2  BG000010   \n",
       "3                  1101.0  Picard Bangladesh Limited     Mukta Banu  BG000033   \n",
       "4                   802.0  Picard Bangladesh Limited     Yousuf Ali  BG000034   \n",
       "\n",
       "   Month_1_Customer_Sales  \n",
       "0                     0.0  \n",
       "1                   267.0  \n",
       "2                     0.0  \n",
       "3                  1347.0  \n",
       "4                     0.0  "
      ]
     },
     "execution_count": 43,
     "metadata": {},
     "output_type": "execute_result"
    }
   ],
   "source": [
    "df.head()"
   ]
  },
  {
   "cell_type": "code",
   "execution_count": 44,
   "id": "75995d91-0dbf-425e-9d00-6419e63e6fba",
   "metadata": {},
   "outputs": [
    {
     "data": {
      "text/plain": [
       "Customer Code              0.000000\n",
       "Month_3_Customer_Sales     0.000000\n",
       "Contact Number            56.828266\n",
       "Month_2_Customer_Sales     0.000000\n",
       "Outlet                     0.000000\n",
       "Customer Name              0.000000\n",
       "HR Code                    0.000000\n",
       "Month_1_Customer_Sales     0.000000\n",
       "dtype: float64"
      ]
     },
     "execution_count": 44,
     "metadata": {},
     "output_type": "execute_result"
    }
   ],
   "source": [
    "df.isnull().sum() * 100/len(df)"
   ]
  },
  {
   "cell_type": "code",
   "execution_count": 45,
   "id": "1c4e1070-902a-4806-9334-003f5e1bc97d",
   "metadata": {},
   "outputs": [],
   "source": [
    "df.insert(7,\"Month 1 Customer\", \" \")\n",
    "df['Month 1 Customer'] = np.where(df['Month_1_Customer_Sales'] == 0.0, 0, 1)"
   ]
  },
  {
   "cell_type": "code",
   "execution_count": 46,
   "id": "50fdeec1-1899-49b6-8524-e114b244d271",
   "metadata": {},
   "outputs": [],
   "source": [
    "df.insert(8,\"Month 2 Customer\", \" \")\n",
    "df['Month 2 Customer'] = np.where(df['Month_2_Customer_Sales'] == 0.0, 0, 1)"
   ]
  },
  {
   "cell_type": "code",
   "execution_count": 47,
   "id": "a3c61606-50ce-492d-bfbb-6faf012acf5c",
   "metadata": {},
   "outputs": [],
   "source": [
    "df.insert(9,\"Month 3 Customer\", \" \")\n",
    "df['Month 3 Customer'] = np.where(df['Month_3_Customer_Sales'] == 0.0, 0, 1)"
   ]
  },
  {
   "cell_type": "code",
   "execution_count": 48,
   "id": "4ebc42ae-15ba-49f1-80a7-1953376f6a15",
   "metadata": {},
   "outputs": [],
   "source": [
    "df.insert(10,\"Regularity\", \" \")"
   ]
  },
  {
   "cell_type": "code",
   "execution_count": 49,
   "id": "cf27b975-e36c-44da-b99a-109dac740ce0",
   "metadata": {},
   "outputs": [],
   "source": [
    "df[\"Regularity\"] = df['Month 1 Customer'] + df['Month 2 Customer'] + df['Month 3 Customer']"
   ]
  },
  {
   "cell_type": "code",
   "execution_count": null,
   "id": "8ff0c21f-8ee5-4574-95c9-f01b1e9d9f11",
   "metadata": {},
   "outputs": [],
   "source": []
  }
 ],
 "metadata": {
  "kernelspec": {
   "display_name": "Python 3 (ipykernel)",
   "language": "python",
   "name": "python3"
  },
  "language_info": {
   "codemirror_mode": {
    "name": "ipython",
    "version": 3
   },
   "file_extension": ".py",
   "mimetype": "text/x-python",
   "name": "python",
   "nbconvert_exporter": "python",
   "pygments_lexer": "ipython3",
   "version": "3.11.7"
  }
 },
 "nbformat": 4,
 "nbformat_minor": 5
}
